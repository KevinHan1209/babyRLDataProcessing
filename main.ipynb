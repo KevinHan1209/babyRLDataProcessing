{
 "cells": [
  {
   "cell_type": "code",
   "execution_count": 1,
   "metadata": {},
   "outputs": [],
   "source": [
    "import pandas as pd\n",
    "import numpy as np\n"
   ]
  },
  {
   "cell_type": "code",
   "execution_count": 2,
   "metadata": {},
   "outputs": [
    {
     "name": "stdout",
     "output_type": "stream",
     "text": [
      "['p' 's' 'd' 't' 'pu' 'c' 'i' 'o' 'h' 'th' nan 'f']\n"
     ]
    }
   ],
   "source": [
    "df = pd.read_csv('/Users/kevinhan/babyRLDataProcessing/DevEvObject_2024-08-29.csv')\n",
    "# delete rows that don't have any actions\n",
    "df = df[~(df['object1_action_state_action'].isna() &\n",
    "                    df['object2_action_state_action'].isna())]\n",
    "\n",
    "print(pd.concat([df['object1_action_state_action'], df['object2_action_state_action']]).unique())\n"
   ]
  },
  {
   "cell_type": "code",
   "execution_count": 3,
   "metadata": {},
   "outputs": [
    {
     "name": "stdout",
     "output_type": "stream",
     "text": [
      "(138, 54)\n",
      "(116, 54)\n",
      "(44, 54)\n"
     ]
    }
   ],
   "source": [
    "agent1 = df[df['ID_subjsess'] == '15_10']\n",
    "agent2 = df[df['ID_subjsess'] == '29_07']\n",
    "agent3 = df[df['ID_subjsess'] == '34_11']\n",
    "\n",
    "print(agent1.shape)\n",
    "print(agent2.shape)\n",
    "print(agent3.shape)"
   ]
  },
  {
   "cell_type": "code",
   "execution_count": 4,
   "metadata": {},
   "outputs": [
    {
     "name": "stdout",
     "output_type": "stream",
     "text": [
      "['r' 'f' 'cu' 'bu' nan 'rb' 'a' 'pb' 'p']\n",
      "['rb' 'bu' nan 'sh' 'f' 'g' 'p' 't']\n",
      "['r' 'rb' 's' 'sh' nan 't']\n"
     ]
    }
   ],
   "source": [
    "unique_toys1 = pd.concat([agent1['object1_obj'], agent1['object2_obj']]).unique()\n",
    "unique_toys2 = pd.concat([agent2['object1_obj'], agent2['object2_obj']]).unique()\n",
    "unique_toys3 = pd.concat([agent3['object1_obj'], agent3['object2_obj']]).unique()\n",
    "print(unique_toys1)\n",
    "print(unique_toys2)\n",
    "print(unique_toys3)\n"
   ]
  },
  {
   "cell_type": "code",
   "execution_count": 5,
   "metadata": {},
   "outputs": [
    {
     "name": "stdout",
     "output_type": "stream",
     "text": [
      "{'r': [['noise', False], ['inhand', False]], 'b': [['inhand', False]], 'bs': [['detach', 'neutral'], ['reattach', 'neutral'], ['inhand', False]], 'm': [['noise', 'neutral'], ['inhand', False]], 'a': [['noise', False], ['inhand', False]], 'f': [['popup', 'neutral'], ['hidden', 'neutral'], ['inhand', False]], 'g': [['detach', 'neutral'], ['reattach', 'neutral'], ['inhand', False]], 'c': [['popup', 'neutral'], ['takeout', 'neutral'], ['inhand', False]], 's': [['putin', 'neutral'], ['inhand', False]], 'p': [['noise', False], ['putin', 'neutral'], ['inhand', False]], 'sh': [['noise', False], ['inhand', False]], 'ca': [['putin', 'neutral'], ['inhand', False]], 't': [['inhand', False]], 'pb': [['inhand', False]], 'rb': [['inhand', False]], 'y': [['inhand', False]], 'bu': [['takeout', 'neutral'], ['putin', 'neutral'], ['inhand', False]], 'cu': [['inhand', False]]}\n"
     ]
    }
   ],
   "source": [
    "obj_states = {'r': [['noise', False]], # rattle\n",
    "              'b': [['deform']], # broom\n",
    "              'bs': [['deform'], ['detach'], ['reattach']], # broom set\n",
    "              'm': [['noise']], # music toy alligator\n",
    "              'a': [['noise', False]], # alligator busy box. Description seems odd, no states match it in data except noise\n",
    "              'f': [['popup'], ['hidden']], # farm toy\n",
    "              'g': [['detach'], ['reattach']], # gear toy\n",
    "              'c': [['popup'], ['takeout']], # cabin with winnie\n",
    "              's': [['putin']], # stroller\n",
    "              'p': [['noise', False],['putin']], # pink pigs and coins (piggie bank?)\n",
    "              'sh': [['noise', False]], # shapesorter with 3 shapes\n",
    "              'ca': [['putin']], # cart\n",
    "              't': [], # tree busy box, seems to be crossed out on document? No states match it in data either\n",
    "              'pb': [['deform']], # pink beach ball\n",
    "              'rb': [['deform']], # red spiky ball\n",
    "              'y': [], # yellow donut ring. Nothing on document or data\n",
    "              'bu': [['takeout'], ['putin']], # bucket with 6 balls\n",
    "              'cu': [] # cubes with 6 colors. Nothing about states on document and no states match it in data\n",
    "              }\n",
    "\n",
    "# EDIT: Taking out deform state because actions are not defined for it yet and it's also not in data\n",
    "for key, states in obj_states.items():\n",
    "    obj_states[key] = [state for state in states if state != ['deform']]\n",
    "for key, states in obj_states.items():\n",
    "  states.append(['inhand', False])\n",
    "  for state in states:\n",
    "    if len(state) == 1:\n",
    "      state.append('neutral')\n",
    "\n",
    "\n",
    "# Output the updated obj_states dictionary\n",
    "print(obj_states)"
   ]
  },
  {
   "cell_type": "code",
   "execution_count": 12,
   "metadata": {},
   "outputs": [],
   "source": [
    "def agent2MDP(agentDF, obj_states):\n",
    "  MDP = []\n",
    "  total_state = obj_states\n",
    "  step_count = 0\n",
    "  prev_noise_state1, prev_noise_state2 = False, False\n",
    "  for index, step in agentDF.iterrows():\n",
    "    # Initialize previous state\n",
    "    old_state = total_state\n",
    "\n",
    "    # Check if noise state was activated in previous state. If so, turn it off (it will get updated below if noise action is continued)\n",
    "    if prev_noise_state1 or prev_noise_state2:\n",
    "      set_noise_state_false(total_state)\n",
    "      \n",
    "    # Update actions\n",
    "    actions = []\n",
    "    if isinstance(step['object1_action_state_action'], str):\n",
    "      actions.append(step['object1_action_state_action'])\n",
    "    if isinstance(step['object2_action_state_action'], str):\n",
    "      actions.append(step['object2_action_state_action'])\n",
    "\n",
    "    # Check if baby is still playing with same object(s)\n",
    "    if not step_count == 0:\n",
    "      if isinstance(last_obj1, str):\n",
    "        if last_obj1 != step['object1_obj']:\n",
    "          total_state[last_obj1][-1].pop()\n",
    "          total_state[last_obj1][-1].append(False)\n",
    "      if isinstance(last_obj2, str):\n",
    "        if last_obj2 != step['object2_obj']:\n",
    "          total_state[last_obj2][-1].pop()\n",
    "          total_state[last_obj2][-1].append(False)\n",
    "    last_obj1 = step['object1_obj']\n",
    "    last_obj2 = step['object2_obj']\n",
    "\n",
    "    # Go through row and update object states accordingly\n",
    "    if isinstance(step['object1_obj'], str):\n",
    "      for state in total_state[step['object1_obj']]:\n",
    "        if state[0] != 'inhand':\n",
    "          # Check if state is in row\n",
    "          if step['object1_action_state_' + state[0]] == 'y':\n",
    "            state.pop()\n",
    "            state.append(True)\n",
    "            # Check if noise state is activated\n",
    "            if state[0] == 'noise':\n",
    "              prev_noise_state1 = True\n",
    "        elif state[0] == 'inhand':\n",
    "          state.pop()\n",
    "          state.append(True)\n",
    "    if isinstance(step['object2_obj'], str):\n",
    "      for state in total_state[step['object2_obj']]:\n",
    "        if state[0] != 'inhand':\n",
    "          # Check i fstate is in row\n",
    "          if step['object2_action_state_' + state[0]] == 'y':\n",
    "            state.pop()\n",
    "            state.append(True)\n",
    "            # Check if noise state is activated\n",
    "            if state[0] == 'noise':\n",
    "              prev_noise_state2 = True\n",
    "        elif state[0] == 'inhand':\n",
    "          state.pop()\n",
    "          state.append(True)\n",
    "    step_count += 1\n",
    "    MDP.append([old_state, actions, total_state, step_count])\n",
    "  return MDP\n",
    "\n",
    "def set_noise_state_false(obj_states):\n",
    "    for obj, states in obj_states.items():\n",
    "        for state in states:\n",
    "            if state[0] == 'noise':\n",
    "                if len(state) == 1:\n",
    "                    state.append(False)  # Add False if only 'noise' is present\n",
    "                else:\n",
    "                    state[1] = False  # Set to False if second element exists and is not 'False'\n"
   ]
  },
  {
   "cell_type": "code",
   "execution_count": 15,
   "metadata": {},
   "outputs": [],
   "source": [
    "MDP1, MDP2, MDP3 = agent2MDP(agent1, obj_states), agent2MDP(agent2, obj_states), agent2MDP(agent3, obj_states)\n",
    "all_MDPs = [MDP1, MDP2, MDP3]\n"
   ]
  },
  {
   "cell_type": "code",
   "execution_count": 16,
   "metadata": {},
   "outputs": [],
   "source": [
    "import json\n",
    "with open('ALL_MDPS.json', 'w') as f:\n",
    "    json.dump(all_MDPs, f)\n"
   ]
  },
  {
   "cell_type": "code",
   "execution_count": 17,
   "metadata": {},
   "outputs": [],
   "source": [
    "with open('ALL_MDPS.json', 'r') as f:\n",
    "    loaded_data = json.load(f)"
   ]
  }
 ],
 "metadata": {
  "kernelspec": {
   "display_name": "babyRL",
   "language": "python",
   "name": "python3"
  },
  "language_info": {
   "codemirror_mode": {
    "name": "ipython",
    "version": 3
   },
   "file_extension": ".py",
   "mimetype": "text/x-python",
   "name": "python",
   "nbconvert_exporter": "python",
   "pygments_lexer": "ipython3",
   "version": "3.8.19"
  }
 },
 "nbformat": 4,
 "nbformat_minor": 2
}
